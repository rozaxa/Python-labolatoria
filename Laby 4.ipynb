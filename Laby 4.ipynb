{
 "cells": [
  {
   "cell_type": "code",
   "execution_count": 34,
   "id": "1b72910b",
   "metadata": {},
   "outputs": [
    {
     "name": "stdout",
     "output_type": "stream",
     "text": [
      "|....|....|....|....|....|....|....|....|....|....|\n",
      "0    1    2    3    4    5    6    7    8    9   10\n",
      "\n",
      "+---+---+---+\n",
      "|   |   |   |\n",
      "+---+---+---+\n",
      "|   |   |   |\n",
      "+---+---+---+\n"
     ]
    }
   ],
   "source": [
    "#ZADANIE 2\n",
    "#3.5\n",
    "\n",
    "def make_ruler(n):\n",
    "# n = 10\n",
    "    a = \"\"\n",
    "    print(\"|\",end='')\n",
    "    \n",
    "    for i in range(n):\n",
    "            a = a + \"....|\"\n",
    "    a = a+ \"\\n0\"\n",
    "\n",
    "    for i in range(1,n+1):\n",
    "        a = a + '{0:>5}'.format(i)\n",
    "    \n",
    "    return a\n",
    "\n",
    "\n",
    "print(make_ruler(10))        \n",
    "            \n",
    "    \n",
    "#3.6\n",
    "def make_grid(r,c):\n",
    "    \n",
    "    a = \"\"\n",
    "\n",
    "    for i in range(r):\n",
    "        a = a +  \"\\n+\"\n",
    "        for j in range(c):\n",
    "            a = a + \"---+\" \n",
    "        a = a + \"\\n|\"\n",
    "        for j in range(c):\n",
    "            a = a + \"   |\"\n",
    "    a = a + \"\\n+\"\n",
    "    for j in range(c):\n",
    "        a = a + \"---+\"\n",
    "    \n",
    "    return a\n",
    "\n",
    "print(make_grid(2,3))"
   ]
  },
  {
   "cell_type": "code",
   "execution_count": 26,
   "id": "74c7839f",
   "metadata": {},
   "outputs": [
    {
     "data": {
      "text/plain": [
       "120"
      ]
     },
     "execution_count": 26,
     "metadata": {},
     "output_type": "execute_result"
    }
   ],
   "source": [
    "#ZADANIE 3\n",
    "\n",
    "def factorial(n):\n",
    "    result = 1\n",
    "    \n",
    "    for num in range(1, n+1):\n",
    "        result = result *num\n",
    "        \n",
    "    \n",
    "    return result \n",
    "\n",
    "factorial(5)"
   ]
  },
  {
   "cell_type": "code",
   "execution_count": 35,
   "id": "23a20d92",
   "metadata": {},
   "outputs": [
    {
     "data": {
      "text/plain": [
       "610"
      ]
     },
     "execution_count": 35,
     "metadata": {},
     "output_type": "execute_result"
    }
   ],
   "source": [
    "#ZADANIE 4\n",
    "\n",
    "def fibonnaci(n):\n",
    "    start = 0\n",
    "    second = 1\n",
    "    \n",
    "    if n == 0:\n",
    "        return start\n",
    "    elif n == 1:\n",
    "        return second\n",
    "    \n",
    "    for i in range(n-1):\n",
    "        start, second = second, start+second\n",
    "    return second\n",
    "\n",
    "fibonnaci(15)"
   ]
  },
  {
   "cell_type": "code",
   "execution_count": 19,
   "id": "b7849fd9",
   "metadata": {},
   "outputs": [
    {
     "name": "stdout",
     "output_type": "stream",
     "text": [
      "[1, 6, 5, 4, 3, 2, 7, 8, 9]\n",
      "[1, 6, 5, 4, 3, 2, 7, 8, 9]\n"
     ]
    }
   ],
   "source": [
    "#ZADANIE 5\n",
    "def odwracanie_it(L,left,right):\n",
    "\n",
    "        \n",
    "        r = int ((right+left)/2)\n",
    "        for i in range (left, r):\n",
    "            L[i], L[right - i +left] = L[right - i +left], L[i]\n",
    "\n",
    "            \n",
    "list = [1,2,3,4,5,6,7,8,9]\n",
    "odwracanie_it(list,1,5)\n",
    "print(list)\n",
    "\n",
    "\n",
    "\n",
    "def odwracanie_r(L,left,right):\n",
    "    if left < right:\n",
    "        L[left], L[right] = L[right], L[left]\n",
    "        odwracanie_r(L,left+1, right-1)\n",
    "        \n",
    "\n",
    "        \n",
    "\n",
    "        \n",
    "list1 = [1,2,3,4,5,6,7,8,9]\n",
    "\n",
    "odwracanie_r(list1,1,5)\n",
    "print(list1)"
   ]
  },
  {
   "cell_type": "code",
   "execution_count": 18,
   "id": "6cc11dc7",
   "metadata": {},
   "outputs": [
    {
     "data": {
      "text/plain": [
       "45"
      ]
     },
     "execution_count": 18,
     "metadata": {},
     "output_type": "execute_result"
    }
   ],
   "source": [
    "#ZADANIE 6\n",
    "def sum_seq(sequence):\n",
    "    \n",
    "    el = [item for item in sequence if item != []]\n",
    "    sum = 0\n",
    "    \n",
    "        \n",
    "    for s in el:\n",
    "        if(isinstance(s, int)):\n",
    "            sum = s + sum\n",
    "        else:\n",
    "             sum = sum + sum_seq(s)\n",
    "    return sum\n",
    "\n",
    "    \n",
    "seq = [1,(2,3),[],[4,(5,6,7)],8,[9]]\n",
    "sum_seq(seq)\n",
    "      "
   ]
  },
  {
   "cell_type": "code",
   "execution_count": 11,
   "id": "247a9542",
   "metadata": {},
   "outputs": [
    {
     "name": "stdout",
     "output_type": "stream",
     "text": [
      "[1, 2, 3, 4, 5, 6, 7, 8, 9]\n"
     ]
    }
   ],
   "source": [
    "ft = [] \n",
    "def flatten(sequence):\n",
    "      \n",
    "    for s in sequence:\n",
    "        if isinstance(s, (list,tuple)):\n",
    "            flatten(s)\n",
    "        else:\n",
    "            ft.append(s)\n",
    " \n",
    "    return ft\n",
    "\n",
    "seq = [1,(2,3),[],[4,(5,6,7)],8,[9]]\n",
    "print(flatten(seq))       "
   ]
  }
 ],
 "metadata": {
  "kernelspec": {
   "display_name": "Python 3 (ipykernel)",
   "language": "python",
   "name": "python3"
  },
  "language_info": {
   "codemirror_mode": {
    "name": "ipython",
    "version": 3
   },
   "file_extension": ".py",
   "mimetype": "text/x-python",
   "name": "python",
   "nbconvert_exporter": "python",
   "pygments_lexer": "ipython3",
   "version": "3.9.7"
  }
 },
 "nbformat": 4,
 "nbformat_minor": 5
}
