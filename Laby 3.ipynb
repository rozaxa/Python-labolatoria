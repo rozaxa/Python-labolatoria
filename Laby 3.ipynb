{
 "cells": [
  {
   "cell_type": "code",
   "execution_count": 1,
   "id": "d0b0456b",
   "metadata": {},
   "outputs": [
    {
     "name": "stdout",
     "output_type": "stream",
     "text": [
      "Kod nr 1 jest poprawny\n",
      "*****************************\n",
      "Kod nr 2 nie jest poprawny poniewaz zagniezdzone intrukcje (if) musza znajdowac sie w oddzielnych liniach\n",
      "*****************************\n",
      "Kod nr 3 jest poprawny\n"
     ]
    }
   ],
   "source": [
    "#ZADANIE 1\n",
    "\n",
    "print(\"Kod nr 1 jest poprawny\")\n",
    "# x = 2; y = 3;\n",
    "# if (x > y):\n",
    "#     result = x;\n",
    "# else:\n",
    "#     result = y;\n",
    "    \n",
    "print(\"*****************************\")\n",
    "\n",
    "print(\"Kod nr 2 nie jest poprawny poniewaz zagniezdzone intrukcje (if) musza znajdowac sie w oddzielnych liniach\")\n",
    "\n",
    "# for i in \"axby\": if ord(i) < 100: print (i)\n",
    "\n",
    "print(\"*****************************\")\n",
    "\n",
    "print(\"Kod nr 3 jest poprawny\")\n",
    "# for i in \"axby\": print (ord(i) if ord(i) < 100 else i)\n",
    "\n",
    "\n",
    "\n"
   ]
  },
  {
   "cell_type": "code",
   "execution_count": 2,
   "id": "d54a6bf5",
   "metadata": {},
   "outputs": [
    {
     "name": "stdout",
     "output_type": "stream",
     "text": [
      "1. L.sort() nic nie zwaraca,  a wiec niczego nie przypisujemy do L \n",
      "2. Do dwoch zmienych probujemy przypisac 3 wartosci\n",
      "3. Nie da sie zmienic wartosci tuple\n",
      "4. X posiada indeksy od 0 do 2 a my probujemy dostac sie do elementu o indeksie 3, ktory nie istnieje\n",
      "5. append() nie zadziala, nalezy uzyc str(X.append(\"d\")\n",
      "6. Funkcja pow przyjmuje 2 argumenty \n"
     ]
    }
   ],
   "source": [
    "#ZADANIE 2  \n",
    "\n",
    "#1: L = [3, 5, 4] ; L = L.sort()\n",
    "print(\"1. L.sort() nic nie zwaraca,  a wiec niczego nie przypisujemy do L \")\n",
    "\n",
    "#2: x, y = 1, 2, 3\n",
    "print(\"2. Do dwoch zmienych probujemy przypisac 3 wartosci\")\n",
    "\n",
    "#3: X = 1, 2, 3 ; X[1] = 4\n",
    "print(\"3. Nie da sie zmienic wartosci tuple\")\n",
    "\n",
    "#4: X = [1, 2, 3] ; X[3] = 4\n",
    "print(\"4. X posiada indeksy od 0 do 2 a my probujemy dostac sie do elementu o indeksie 3, ktory nie istnieje\")\n",
    "\n",
    "#5: X = \"abc\" ; X.append(\"d\")\n",
    "print(\"5. append() nie zadziala, nalezy uzyc str(X.append(\\\"d\\\")\")\n",
    "\n",
    "#6:  L= list(map(pow, range(8))\n",
    "print(\"6. Funkcja pow przyjmuje 2 argumenty \")\n",
    "\n"
   ]
  },
  {
   "cell_type": "code",
   "execution_count": 3,
   "id": "69ca3479",
   "metadata": {},
   "outputs": [
    {
     "name": "stdout",
     "output_type": "stream",
     "text": [
      "1\n",
      "2\n",
      "4\n",
      "5\n",
      "7\n",
      "8\n",
      "10\n",
      "11\n",
      "13\n",
      "14\n",
      "16\n",
      "17\n",
      "19\n",
      "20\n",
      "22\n",
      "23\n",
      "25\n",
      "26\n",
      "28\n",
      "29\n"
     ]
    }
   ],
   "source": [
    "#ZADANIE 3\n",
    "for num in range(0,30):\n",
    "    if not num %3 == 0:\n",
    "        print(num)"
   ]
  },
  {
   "cell_type": "code",
   "execution_count": 4,
   "id": "20617d5d",
   "metadata": {},
   "outputs": [
    {
     "name": "stdout",
     "output_type": "stream",
     "text": [
      "Give a number or stop: 1\n",
      "1.0 1.0\n",
      "Give a number or stop: 3\n",
      "3.0 27.0\n",
      "Give a number or stop: 4\n",
      "4.0 64.0\n",
      "Give a number or stop: 15\n",
      "15.0 3375.0\n",
      "Give a number or stop: stop\n"
     ]
    }
   ],
   "source": [
    "#ZADANIE 4\n",
    "\n",
    "while True:\n",
    "    x = input(\"Give a number or stop: \")\n",
    "    if x == 'stop':\n",
    "        break  \n",
    "    try:\n",
    "        num = float(x)\n",
    "    except ValueError: \n",
    "        print(\"This is not a number!\")\n",
    "    else: \n",
    "        print(num, pow((num), 3))"
   ]
  },
  {
   "cell_type": "code",
   "execution_count": 5,
   "id": "247fbbc8",
   "metadata": {},
   "outputs": [
    {
     "name": "stdout",
     "output_type": "stream",
     "text": [
      "|....|....|....|....|....|....|....|....|....|....|\n",
      "0    1    2    3    4    5    6    7    8    9   10"
     ]
    }
   ],
   "source": [
    "#ZADANIE 5\n",
    "\n",
    "n = 10\n",
    "print(\"|\",end='')\n",
    "for i in range(n):\n",
    "    print(\"....|\", end='')\n",
    "print(\"\\n0\",end='')\n",
    "\n",
    "for i in range(1,n+1):\n",
    "    print(f'{i:>5}', end='')\n"
   ]
  },
  {
   "cell_type": "code",
   "execution_count": 6,
   "id": "fadeece3",
   "metadata": {},
   "outputs": [
    {
     "name": "stdout",
     "output_type": "stream",
     "text": [
      "\n",
      "+ ---+ ---+ ---+ \n",
      "|    |    |    | \n",
      "+ ---+ ---+ ---+ \n",
      "|    |    |    | \n",
      "+ ---+ ---+ ---+ "
     ]
    }
   ],
   "source": [
    "#ZADANIE 6\n",
    "x = 2\n",
    "y = 3\n",
    "\n",
    "\n",
    "for i in range(x):\n",
    "    print(\"\\n+\", end = \" \")\n",
    "    for j in range(y):\n",
    "        print(\"---+\", end= \" \") \n",
    "    print(\"\\n|\", end= \" \")\n",
    "    for j in range(y):\n",
    "        print(\"   |\", end= \" \")\n",
    "print(\"\\n+\", end = \" \")\n",
    "for j in range(y):\n",
    "    print(\"---+\", end= \" \")\n",
    "    "
   ]
  },
  {
   "cell_type": "code",
   "execution_count": 7,
   "id": "650c050b",
   "metadata": {},
   "outputs": [
    {
     "name": "stdout",
     "output_type": "stream",
     "text": [
      "12 sec 3456 sec\n",
      "[Time(12), Time(3456)]\n"
     ]
    }
   ],
   "source": [
    "#ZADANIE 7\n",
    "\n",
    "class Time:\n",
    "\n",
    "    def __init__(self, seconds=0):\n",
    "        self.s = seconds\n",
    "\n",
    "    def __str__(self):\n",
    "        return \"{} sec\".format(self.s)\n",
    "\n",
    "    def __repr__(self):\n",
    "        return \"Time({})\".format(self.s)\n",
    "\n",
    "time1 = Time(12)\n",
    "time2 = Time(3456)\n",
    "print(\"{} {}\".format(time1, time2))   # Python wywołuje str()\n",
    "print(\"{}\".format([time1, time2]))   # Python wywołuje repr()\n"
   ]
  },
  {
   "cell_type": "code",
   "execution_count": 8,
   "id": "e913d73d",
   "metadata": {},
   "outputs": [
    {
     "name": "stdout",
     "output_type": "stream",
     "text": [
      "[4, 5, 6]\n",
      "[1, 2, 3, 4, 5, 6, 7, 8, 9]\n"
     ]
    }
   ],
   "source": [
    "#ZADANIE 8\n",
    "\n",
    "a = [1,2,3,4,5,6]\n",
    "b = [4,5,6,7,8,9]\n",
    "\n",
    "\n",
    "A = []\n",
    "\n",
    "for num in a:\n",
    "    if num in b:\n",
    "        A.append(num)\n",
    "print(A)\n",
    "\n",
    "for item in b:\n",
    "    if item not in a:\n",
    "        a.append(item)\n",
    "print(a)\n",
    "        \n"
   ]
  },
  {
   "cell_type": "code",
   "execution_count": 9,
   "id": "8df7f8af",
   "metadata": {},
   "outputs": [
    {
     "name": "stdout",
     "output_type": "stream",
     "text": [
      "0 4 3 7 18 "
     ]
    }
   ],
   "source": [
    "#ZADANIE 9\n",
    "\n",
    "l = [ [], [4], (1,2), [3,4], (5,6,7)]\n",
    "\n",
    "for item in l:\n",
    "    print(sum(item), end= ' ')"
   ]
  },
  {
   "cell_type": "code",
   "execution_count": 10,
   "id": "3ba93eaf",
   "metadata": {},
   "outputs": [
    {
     "name": "stdout",
     "output_type": "stream",
     "text": [
      "11\n",
      "510\n",
      "2006\n"
     ]
    }
   ],
   "source": [
    "#ZADANIE 10\n",
    "\n",
    "def roman2int(number):\n",
    "    \n",
    "    prev = 0\n",
    "    x = 0\n",
    "        \n",
    "    for num in number:\n",
    "        if num == 'I':\n",
    "            val = 1\n",
    "        elif num == 'V':\n",
    "            val = 5\n",
    "        elif num == 'X':\n",
    "            val = 10\n",
    "        elif num == 'L':\n",
    "            val = 50\n",
    "        elif num == 'C':\n",
    "            val = 100\n",
    "        elif num == 'D':\n",
    "            val = 500\n",
    "        elif num == 'M':\n",
    "            val = 1000\n",
    "\n",
    "        if val > prev:\n",
    "            x -= prev\n",
    "        else:\n",
    "            x += prev\n",
    "\n",
    "        prev = val\n",
    "\n",
    "    x += prev\n",
    "    return x\n",
    "\n",
    "print(roman2int(\"XI\"))\n",
    "print(roman2int(\"DX\"))\n",
    "print(roman2int(\"MMVI\"))"
   ]
  },
  {
   "cell_type": "code",
   "execution_count": null,
   "id": "9024583b",
   "metadata": {},
   "outputs": [],
   "source": []
  }
 ],
 "metadata": {
  "kernelspec": {
   "display_name": "Python 3 (ipykernel)",
   "language": "python",
   "name": "python3"
  },
  "language_info": {
   "codemirror_mode": {
    "name": "ipython",
    "version": 3
   },
   "file_extension": ".py",
   "mimetype": "text/x-python",
   "name": "python",
   "nbconvert_exporter": "python",
   "pygments_lexer": "ipython3",
   "version": "3.9.7"
  }
 },
 "nbformat": 4,
 "nbformat_minor": 5
}
