{
 "cells": [
  {
   "cell_type": "code",
   "execution_count": 1,
   "id": "d6d0b668",
   "metadata": {},
   "outputs": [
    {
     "name": "stdout",
     "output_type": "stream",
     "text": [
      "My line is: \n",
      " Pan pomidor wlazł na tyczkę \n",
      " i przedrzeźnia ogrodniczkę \n",
      "  Jak pan może, Panie pomidorze\n",
      "\n",
      " Lenght of black character is: 72\n"
     ]
    }
   ],
   "source": [
    "# ZADANIE 2.10\n",
    "\n",
    "line = \"Pan pomidor wlazł na tyczkę \\n i przedrzeźnia ogrodniczkę \\n  Jak pan może, Panie pomidorze\"\n",
    "print(\"My line is: \\n\", line)\n",
    "\n",
    "l = len( ''.join(line.split()))\n",
    "\n",
    "print(\"\\n Lenght of black character is:\", l)\n",
    "\n"
   ]
  },
  {
   "cell_type": "code",
   "execution_count": 2,
   "id": "24f9f422",
   "metadata": {},
   "outputs": [
    {
     "name": "stdout",
     "output_type": "stream",
     "text": [
      "w_o_r_d\n",
      "\n",
      " *******\n",
      "P_a_n_ _p_o_m_i_d_o_r_ _w_l_a_z_ł_ _n_a_ _t_y_c_z_k_ę_ _\n",
      "_ _i_ _p_r_z_e_d_r_z_e_ź_n_i_a_ _o_g_r_o_d_n_i_c_z_k_ę_ _\n",
      "_ _ _J_a_k_ _p_a_n_ _m_o_ż_e_,_ _P_a_n_i_e_ _p_o_m_i_d_o_r_z_e_\n"
     ]
    }
   ],
   "source": [
    "#ZADANIE 2.11\n",
    "\n",
    "word = \"_\".join([\"w\", \"o\", \"r\", \"d\"])\n",
    "print(word)\n",
    "\n",
    "print(\"\\n *******\")\n",
    "\n",
    "\n",
    "t = \"\"\n",
    "for words in line:\n",
    "    t += (words + \"_\")\n",
    "print(t)\n",
    "\n",
    "    "
   ]
  },
  {
   "cell_type": "code",
   "execution_count": 3,
   "id": "8988490d",
   "metadata": {},
   "outputs": [
    {
     "name": "stdout",
     "output_type": "stream",
     "text": [
      "Word made from first letter:  \n",
      "PpwntipoJpmPp\n",
      "\n",
      "Word made from last letter:  \n",
      "nrłaęiaękn,ee"
     ]
    }
   ],
   "source": [
    "#ZADANIE 2.12\n",
    "\n",
    "print(\"Word made from first letter:  \")\n",
    "\n",
    "for words in line.split():\n",
    "    print(words[0], end = \"\")\n",
    "    \n",
    "print(\"\\n\")\n",
    "    \n",
    "\n",
    "print(\"Word made from last letter:  \")\n",
    "for words in line.split():\n",
    "    print(words[-1], end = \"\")\n",
    "    "
   ]
  },
  {
   "cell_type": "code",
   "execution_count": 4,
   "id": "26955f31",
   "metadata": {},
   "outputs": [
    {
     "name": "stdout",
     "output_type": "stream",
     "text": [
      "72\n"
     ]
    }
   ],
   "source": [
    "#ZADANIE 2.13\n",
    "\n",
    "a = 0\n",
    "\n",
    "for words in line.split():\n",
    "    a += len(words)\n",
    "    \n",
    "print(a)\n"
   ]
  },
  {
   "cell_type": "code",
   "execution_count": 5,
   "id": "f3d65346",
   "metadata": {},
   "outputs": [
    {
     "name": "stdout",
     "output_type": "stream",
     "text": [
      "The longest word in line is:  przedrzeźnia  \n",
      " and the lenght is:  12\n"
     ]
    }
   ],
   "source": [
    "#ZADANIE 2.14\n",
    "\n",
    "mx = \" \"\n",
    "current = 0\n",
    "\n",
    "for words in line.split():\n",
    "    if len(words) > current:\n",
    "        current = len(words)\n",
    "        mx = words\n",
    "        \n",
    "        \n",
    "print(\"The longest word in line is: \" ,  mx , \" \\n and the lenght is: \" , current)"
   ]
  },
  {
   "cell_type": "code",
   "execution_count": 6,
   "id": "7932ab10",
   "metadata": {},
   "outputs": [
    {
     "name": "stdout",
     "output_type": "stream",
     "text": [
      "123456\n"
     ]
    }
   ],
   "source": [
    "#ZADANIE 2.15\n",
    "\n",
    "L = [1,2,3,4,5,6]\n",
    "w = ''\n",
    "for num in L:\n",
    "    w += str(num)\n",
    "\n",
    "print(w)\n"
   ]
  },
  {
   "cell_type": "code",
   "execution_count": 7,
   "id": "898752e3",
   "metadata": {},
   "outputs": [
    {
     "name": "stdout",
     "output_type": "stream",
     "text": [
      "Line before:  Pan pomidor wlazł na tyczkę \n",
      " i przedrzeźnia GvR ogrodniczkę \n",
      "  Jak pan może, Panie pomidorze\n",
      "\n",
      " Line after:  Pan pomidor wlazł na tyczkę \n",
      " i przedrzeźnia Guido van Rossum ogrodniczkę \n",
      "  Jak pan może, Panie pomidorze\n"
     ]
    }
   ],
   "source": [
    "#ZADANIE 2.16\n",
    "\n",
    "line = \"Pan pomidor wlazł na tyczkę \\n i przedrzeźnia GvR ogrodniczkę \\n  Jak pan może, Panie pomidorze\"\n",
    "print(\"Line before: \", line)\n",
    "x = line.replace(\"GvR\", \"Guido van Rossum\")\n",
    "print(\"\\n Line after: \", x)\n"
   ]
  },
  {
   "cell_type": "code",
   "execution_count": 8,
   "id": "afebf874",
   "metadata": {},
   "outputs": [
    {
     "name": "stdout",
     "output_type": "stream",
     "text": [
      "\t String sorted alphabetically: \n",
      "gvr i jak może, na ogrodniczkę pan pan panie pomidor pomidorze przedrzeźnia tyczkę wlazł  \n",
      " \n",
      " \tString sorted due to lenght of the word:\n",
      "i na Pan GvR Jak pan wlazł może, Panie tyczkę pomidor pomidorze ogrodniczkę przedrzeźnia "
     ]
    }
   ],
   "source": [
    "#ZADANIE 2.17\n",
    "\n",
    "print(\"\\t String sorted alphabetically: \")\n",
    "af = [word.lower() for word in line.split()]\n",
    "af.sort()\n",
    "\n",
    "for word in af:\n",
    "    print(word + \" \", end = \"\" )\n",
    "\n",
    "    \n",
    "print(\" \\n \\n \\tString sorted due to lenght of the word:\")\n",
    "al = line.split()\n",
    "al.sort(key = len)\n",
    "for word in al:\n",
    "    print(word + \" \", end='')"
   ]
  },
  {
   "cell_type": "code",
   "execution_count": 9,
   "id": "95e431ba",
   "metadata": {},
   "outputs": [
    {
     "name": "stdout",
     "output_type": "stream",
     "text": [
      "10\n"
     ]
    }
   ],
   "source": [
    "#ZADANIE 2.18\n",
    "\n",
    "num = 123045067006504030980300\n",
    "\n",
    "print(str(num).count(\"0\"))"
   ]
  },
  {
   "cell_type": "code",
   "execution_count": 10,
   "id": "554367fd",
   "metadata": {},
   "outputs": [
    {
     "name": "stdout",
     "output_type": "stream",
     "text": [
      "001002003012013014112113144"
     ]
    }
   ],
   "source": [
    "#ZADANIE 2.19\n",
    "\n",
    "L = [1,2,3,12,13,14,112,113,144]\n",
    "\n",
    "\n",
    "for num in L:\n",
    "    print(str(num).zfill(3), end='')"
   ]
  }
 ],
 "metadata": {
  "kernelspec": {
   "display_name": "Python 3 (ipykernel)",
   "language": "python",
   "name": "python3"
  },
  "language_info": {
   "codemirror_mode": {
    "name": "ipython",
    "version": 3
   },
   "file_extension": ".py",
   "mimetype": "text/x-python",
   "name": "python",
   "nbconvert_exporter": "python",
   "pygments_lexer": "ipython3",
   "version": "3.9.7"
  }
 },
 "nbformat": 4,
 "nbformat_minor": 5
}
